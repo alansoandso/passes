{
 "cells": [
  {
   "cell_type": "markdown",
   "metadata": {},
   "source": [
    "# Using the user.usernames module to extract data\n",
    "\n",
    "## First steps\n",
    "\n",
    "To make this notebook work we need to create a dedicated pyenv just for it.\n",
    "\n",
    "```\n",
    "pyenv virtualenv 3.6.0 passes\n",
    "pyenv activate passes\n",
    "pip install jupyter\n",
    "pip install sklearn\n",
    "pip install -r requirements.txt\n",
    "python -m ipykernel install --user\n",
    "cd passes\n",
    "pip install -e .\n",
    "jupyter notebook\n",
    "```\n",
    "\n",
    "Now we have a ennvironment in which this notebook can run and play"
   ]
  },
  {
   "cell_type": "code",
   "execution_count": 2,
   "metadata": {},
   "outputs": [
    {
     "name": "stdout",
     "output_type": "stream",
     "text": [
      "Done\n"
     ]
    }
   ],
   "source": [
    "from user.usernames import Usernames\n",
    "\n",
    "u = Usernames()\n",
    "# print(u.list_usernames())\n",
    "\n",
    "with(open('profileIds.txt', 'w')) as p:\n",
    "    for username, details in u.users.items():\n",
    "        profile = details.get('profileId', '')\n",
    "        if profile:\n",
    "            p.write(f'{profile}\\n')\n",
    "\n",
    "print('Done')"
   ]
  },
  {
   "cell_type": "code",
   "execution_count": null,
   "metadata": {},
   "outputs": [],
   "source": []
  }
 ],
 "metadata": {
  "kernelspec": {
   "display_name": "Python 3",
   "language": "python",
   "name": "python3"
  },
  "language_info": {
   "codemirror_mode": {
    "name": "ipython",
    "version": 3
   },
   "file_extension": ".py",
   "mimetype": "text/x-python",
   "name": "python",
   "nbconvert_exporter": "python",
   "pygments_lexer": "ipython3",
   "version": "3.6.0"
  }
 },
 "nbformat": 4,
 "nbformat_minor": 2
}
